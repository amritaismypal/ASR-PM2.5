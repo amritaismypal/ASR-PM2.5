{
 "cells": [
  {
   "cell_type": "code",
   "execution_count": 1,
   "id": "c9eb9bc7-4e11-4d51-bea6-dadc9f05ffc9",
   "metadata": {},
   "outputs": [],
   "source": [
    "import numpy as np\n",
    "import pandas as pd"
   ]
  },
  {
   "cell_type": "code",
   "execution_count": 2,
   "id": "95edf145-ecf9-4c73-9eb6-d0cf7ed4ed7a",
   "metadata": {},
   "outputs": [],
   "source": [
    "asian_data = pd.read_csv(\"./asiansubgroupdata/2015asiansubgroupdataset.csv\", dtype = {\"FIPS\": str})"
   ]
  },
  {
   "cell_type": "code",
   "execution_count": 3,
   "id": "f6357233-d875-4011-81e2-a31e3b4aac6a",
   "metadata": {},
   "outputs": [
    {
     "data": {
      "text/html": [
       "<div>\n",
       "<style scoped>\n",
       "    .dataframe tbody tr th:only-of-type {\n",
       "        vertical-align: middle;\n",
       "    }\n",
       "\n",
       "    .dataframe tbody tr th {\n",
       "        vertical-align: top;\n",
       "    }\n",
       "\n",
       "    .dataframe thead th {\n",
       "        text-align: right;\n",
       "    }\n",
       "</style>\n",
       "<table border=\"1\" class=\"dataframe\">\n",
       "  <thead>\n",
       "    <tr style=\"text-align: right;\">\n",
       "      <th></th>\n",
       "      <th>GEO_ID</th>\n",
       "      <th>FIPS</th>\n",
       "      <th>POPGROUP</th>\n",
       "      <th>POPGROUP_LABEL</th>\n",
       "      <th>NAME</th>\n",
       "      <th>B01003_001E</th>\n",
       "      <th>B01003_001M</th>\n",
       "    </tr>\n",
       "  </thead>\n",
       "  <tbody>\n",
       "    <tr>\n",
       "      <th>0</th>\n",
       "      <td>id</td>\n",
       "      <td>NaN</td>\n",
       "      <td>Race/Ethnic Group</td>\n",
       "      <td>Population Groups</td>\n",
       "      <td>Geographic Area Name</td>\n",
       "      <td>Estimate!!Total</td>\n",
       "      <td>Margin of Error!!Total</td>\n",
       "    </tr>\n",
       "    <tr>\n",
       "      <th>1</th>\n",
       "      <td>0400000US01</td>\n",
       "      <td>01</td>\n",
       "      <td>13</td>\n",
       "      <td>Asian Indian alone (400-401)</td>\n",
       "      <td>Alabama</td>\n",
       "      <td>11915</td>\n",
       "      <td>1242</td>\n",
       "    </tr>\n",
       "    <tr>\n",
       "      <th>2</th>\n",
       "      <td>0400000US02</td>\n",
       "      <td>02</td>\n",
       "      <td>13</td>\n",
       "      <td>Asian Indian alone (400-401)</td>\n",
       "      <td>Alaska</td>\n",
       "      <td>856</td>\n",
       "      <td>298</td>\n",
       "    </tr>\n",
       "  </tbody>\n",
       "</table>\n",
       "</div>"
      ],
      "text/plain": [
       "        GEO_ID FIPS           POPGROUP                POPGROUP_LABEL  \\\n",
       "0           id  NaN  Race/Ethnic Group             Population Groups   \n",
       "1  0400000US01   01                 13  Asian Indian alone (400-401)   \n",
       "2  0400000US02   02                 13  Asian Indian alone (400-401)   \n",
       "\n",
       "                   NAME      B01003_001E             B01003_001M  \n",
       "0  Geographic Area Name  Estimate!!Total  Margin of Error!!Total  \n",
       "1               Alabama            11915                    1242  \n",
       "2                Alaska              856                     298  "
      ]
     },
     "execution_count": 3,
     "metadata": {},
     "output_type": "execute_result"
    }
   ],
   "source": [
    "asian_data.head(3)"
   ]
  },
  {
   "cell_type": "code",
   "execution_count": 28,
   "id": "8c5f265e-d420-44ee-b762-039d8364c669",
   "metadata": {},
   "outputs": [],
   "source": [
    "asian_fips_codes = asian_data[\"FIPS\"]"
   ]
  },
  {
   "cell_type": "code",
   "execution_count": 29,
   "id": "ae8df4cd-6273-4434-a547-4edba1286bef",
   "metadata": {},
   "outputs": [
    {
     "data": {
      "text/plain": [
       "0       NaN\n",
       "1        01\n",
       "2        02\n",
       "3        04\n",
       "4        05\n",
       "       ... \n",
       "6913    NaN\n",
       "6914    NaN\n",
       "6915    NaN\n",
       "6916    NaN\n",
       "6917    NaN\n",
       "Name: FIPS, Length: 6918, dtype: object"
      ]
     },
     "execution_count": 29,
     "metadata": {},
     "output_type": "execute_result"
    }
   ],
   "source": [
    "asian_fips_codes"
   ]
  },
  {
   "cell_type": "code",
   "execution_count": null,
   "id": "1044f3a9-e494-4592-a7b0-b944dbef3db6",
   "metadata": {},
   "outputs": [],
   "source": []
  },
  {
   "cell_type": "code",
   "execution_count": null,
   "id": "2c7a18fd-a221-4054-a2f1-f0074dc26ead",
   "metadata": {},
   "outputs": [],
   "source": []
  }
 ],
 "metadata": {
  "kernelspec": {
   "display_name": "Python 3 (ipykernel)",
   "language": "python",
   "name": "python3"
  },
  "language_info": {
   "codemirror_mode": {
    "name": "ipython",
    "version": 3
   },
   "file_extension": ".py",
   "mimetype": "text/x-python",
   "name": "python",
   "nbconvert_exporter": "python",
   "pygments_lexer": "ipython3",
   "version": "3.9.6"
  }
 },
 "nbformat": 4,
 "nbformat_minor": 5
}
