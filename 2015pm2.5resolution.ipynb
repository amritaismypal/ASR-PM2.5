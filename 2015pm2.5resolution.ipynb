{
 "cells": [
  {
   "cell_type": "code",
   "execution_count": 1,
   "id": "fd052e3f-73cb-4840-98fc-6d518a0923fe",
   "metadata": {},
   "outputs": [],
   "source": [
    "import numpy as np\n",
    "import pandas as pd"
   ]
  },
  {
   "cell_type": "code",
   "execution_count": 2,
   "id": "cb2c54b8-32da-45e9-8701-b74b926d5ba6",
   "metadata": {},
   "outputs": [],
   "source": [
    "pm_data = pd.read_csv(\"./pm2.5data/2015pm2.5data.csv\", dtype = {\"fips\": str})"
   ]
  },
  {
   "cell_type": "code",
   "execution_count": 3,
   "id": "53808725-6833-4da8-b384-e16ef3c8566f",
   "metadata": {},
   "outputs": [
    {
     "data": {
      "text/html": [
       "<div>\n",
       "<style scoped>\n",
       "    .dataframe tbody tr th:only-of-type {\n",
       "        vertical-align: middle;\n",
       "    }\n",
       "\n",
       "    .dataframe tbody tr th {\n",
       "        vertical-align: top;\n",
       "    }\n",
       "\n",
       "    .dataframe thead th {\n",
       "        text-align: right;\n",
       "    }\n",
       "</style>\n",
       "<table border=\"1\" class=\"dataframe\">\n",
       "  <thead>\n",
       "    <tr style=\"text-align: right;\">\n",
       "      <th></th>\n",
       "      <th>fips</th>\n",
       "      <th>pollutant</th>\n",
       "      <th>year</th>\n",
       "      <th>pred_wght</th>\n",
       "      <th>state_abbr</th>\n",
       "      <th>lat</th>\n",
       "      <th>lon</th>\n",
       "    </tr>\n",
       "  </thead>\n",
       "  <tbody>\n",
       "    <tr>\n",
       "      <th>0</th>\n",
       "      <td>010010201001</td>\n",
       "      <td>pm25</td>\n",
       "      <td>2015</td>\n",
       "      <td>7.830370</td>\n",
       "      <td>AL</td>\n",
       "      <td>32.464799</td>\n",
       "      <td>-86.486539</td>\n",
       "    </tr>\n",
       "    <tr>\n",
       "      <th>1</th>\n",
       "      <td>010010201002</td>\n",
       "      <td>pm25</td>\n",
       "      <td>2015</td>\n",
       "      <td>7.448709</td>\n",
       "      <td>AL</td>\n",
       "      <td>32.482390</td>\n",
       "      <td>-86.486897</td>\n",
       "    </tr>\n",
       "    <tr>\n",
       "      <th>2</th>\n",
       "      <td>010010202001</td>\n",
       "      <td>pm25</td>\n",
       "      <td>2015</td>\n",
       "      <td>7.579924</td>\n",
       "      <td>AL</td>\n",
       "      <td>32.478039</td>\n",
       "      <td>-86.474784</td>\n",
       "    </tr>\n",
       "  </tbody>\n",
       "</table>\n",
       "</div>"
      ],
      "text/plain": [
       "           fips pollutant  year  pred_wght state_abbr        lat        lon\n",
       "0  010010201001      pm25  2015   7.830370         AL  32.464799 -86.486539\n",
       "1  010010201002      pm25  2015   7.448709         AL  32.482390 -86.486897\n",
       "2  010010202001      pm25  2015   7.579924         AL  32.478039 -86.474784"
      ]
     },
     "execution_count": 3,
     "metadata": {},
     "output_type": "execute_result"
    }
   ],
   "source": [
    "pm_data.head(3)"
   ]
  },
  {
   "cell_type": "code",
   "execution_count": 4,
   "id": "5d54e231-16b7-4b2f-9287-79c4eccc281c",
   "metadata": {},
   "outputs": [],
   "source": [
    "pm_fips_codes = pm_data[\"fips\"]"
   ]
  },
  {
   "cell_type": "code",
   "execution_count": 5,
   "id": "1179f475-8a20-4c02-86b1-e4071712ee61",
   "metadata": {},
   "outputs": [
    {
     "data": {
      "text/plain": [
       "0         010010201001\n",
       "1         010010201002\n",
       "2         010010202001\n",
       "3         010010202002\n",
       "4         010010203001\n",
       "              ...     \n",
       "215486    560459511001\n",
       "215487    560459511002\n",
       "215488    560459513001\n",
       "215489    560459513002\n",
       "215490    560459513003\n",
       "Name: fips, Length: 215491, dtype: object"
      ]
     },
     "execution_count": 5,
     "metadata": {},
     "output_type": "execute_result"
    }
   ],
   "source": [
    "pm_fips_codes"
   ]
  },
  {
   "cell_type": "code",
   "execution_count": null,
   "id": "5673de31-2bcb-4033-b43c-dfe4db786a66",
   "metadata": {},
   "outputs": [],
   "source": []
  },
  {
   "cell_type": "code",
   "execution_count": null,
   "id": "06e4d406-1393-4d89-bc72-5de6372945d6",
   "metadata": {},
   "outputs": [],
   "source": []
  }
 ],
 "metadata": {
  "kernelspec": {
   "display_name": "Python 3 (ipykernel)",
   "language": "python",
   "name": "python3"
  },
  "language_info": {
   "codemirror_mode": {
    "name": "ipython",
    "version": 3
   },
   "file_extension": ".py",
   "mimetype": "text/x-python",
   "name": "python",
   "nbconvert_exporter": "python",
   "pygments_lexer": "ipython3",
   "version": "3.9.6"
  }
 },
 "nbformat": 4,
 "nbformat_minor": 5
}
