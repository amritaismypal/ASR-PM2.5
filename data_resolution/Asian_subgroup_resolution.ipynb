{
 "cells": [
  {
   "cell_type": "code",
   "execution_count": 131,
   "id": "c9eb9bc7-4e11-4d51-bea6-dadc9f05ffc9",
   "metadata": {},
   "outputs": [],
   "source": [
    "%reload_ext autoreload\n",
    "%autoreload 2\n",
    "\n",
    "import numpy as np\n",
    "import pandas as pd\n",
    "import sys\n",
    "sys.path.append(\"data_resolution\")\n",
    "from resolution_helpers import invalid_fips, remove_cols"
   ]
  },
  {
   "cell_type": "code",
   "execution_count": 132,
   "id": "ae8df4cd-6273-4434-a547-4edba1286bef",
   "metadata": {},
   "outputs": [],
   "source": [
    "asian_data_path = \"~/ASR-PM2.5/datasets/input_datasets/Asian_subgroup/2015Asiansubgroupdataset.csv\"\n",
    "\n",
    "asian_data = pd.read_csv(asian_data_path, dtype = {\"FIPS\": str}).dropna()"
   ]
  },
  {
   "cell_type": "code",
   "execution_count": 133,
   "id": "6f83796c-c4be-4038-94be-e33b89264f51",
   "metadata": {},
   "outputs": [],
   "source": [
    "asian_data_updated = asian_data.rename(columns = {\"B01003_001E\": \"estimated_pop\"})"
   ]
  },
  {
   "cell_type": "code",
   "execution_count": 134,
   "id": "74604aa2-8f1b-4dfb-94ba-32b9b05c78c9",
   "metadata": {},
   "outputs": [
    {
     "data": {
      "text/html": [
       "<div>\n",
       "<style scoped>\n",
       "    .dataframe tbody tr th:only-of-type {\n",
       "        vertical-align: middle;\n",
       "    }\n",
       "\n",
       "    .dataframe tbody tr th {\n",
       "        vertical-align: top;\n",
       "    }\n",
       "\n",
       "    .dataframe thead th {\n",
       "        text-align: right;\n",
       "    }\n",
       "</style>\n",
       "<table border=\"1\" class=\"dataframe\">\n",
       "  <thead>\n",
       "    <tr style=\"text-align: right;\">\n",
       "      <th></th>\n",
       "      <th>GEO_ID</th>\n",
       "      <th>FIPS</th>\n",
       "      <th>POPGROUP</th>\n",
       "      <th>POPGROUP_LABEL</th>\n",
       "      <th>NAME</th>\n",
       "      <th>estimated_pop</th>\n",
       "      <th>B01003_001M</th>\n",
       "    </tr>\n",
       "  </thead>\n",
       "  <tbody>\n",
       "    <tr>\n",
       "      <th>1</th>\n",
       "      <td>0500000US06081</td>\n",
       "      <td>06081</td>\n",
       "      <td>26</td>\n",
       "      <td>Pakistani alone (445)</td>\n",
       "      <td>San Mateo County, California</td>\n",
       "      <td>1017</td>\n",
       "      <td>369</td>\n",
       "    </tr>\n",
       "    <tr>\n",
       "      <th>2</th>\n",
       "      <td>0500000US25027</td>\n",
       "      <td>25027</td>\n",
       "      <td>13</td>\n",
       "      <td>Asian Indian alone (400-401)</td>\n",
       "      <td>Worcester County, Massachusetts</td>\n",
       "      <td>11017</td>\n",
       "      <td>1036</td>\n",
       "    </tr>\n",
       "    <tr>\n",
       "      <th>3</th>\n",
       "      <td>0500000US37081</td>\n",
       "      <td>37081</td>\n",
       "      <td>34</td>\n",
       "      <td>Cambodian alone or in any combination (405-409...</td>\n",
       "      <td>Guilford County, North Carolina</td>\n",
       "      <td>1227</td>\n",
       "      <td>519</td>\n",
       "    </tr>\n",
       "    <tr>\n",
       "      <th>4</th>\n",
       "      <td>0500000US53033</td>\n",
       "      <td>53033</td>\n",
       "      <td>17</td>\n",
       "      <td>Chinese (except Taiwanese) alone (410-411)</td>\n",
       "      <td>King County, Washington</td>\n",
       "      <td>79421</td>\n",
       "      <td>2516</td>\n",
       "    </tr>\n",
       "    <tr>\n",
       "      <th>5</th>\n",
       "      <td>0500000US04013</td>\n",
       "      <td>04013</td>\n",
       "      <td>33</td>\n",
       "      <td>Bangladeshi alone or in any combination (402) ...</td>\n",
       "      <td>Maricopa County, Arizona</td>\n",
       "      <td>1415</td>\n",
       "      <td>463</td>\n",
       "    </tr>\n",
       "    <tr>\n",
       "      <th>...</th>\n",
       "      <td>...</td>\n",
       "      <td>...</td>\n",
       "      <td>...</td>\n",
       "      <td>...</td>\n",
       "      <td>...</td>\n",
       "      <td>...</td>\n",
       "      <td>...</td>\n",
       "    </tr>\n",
       "    <tr>\n",
       "      <th>5467</th>\n",
       "      <td>0500000US40031</td>\n",
       "      <td>40031</td>\n",
       "      <td>41</td>\n",
       "      <td>Japanese alone or in any combination (430-439)...</td>\n",
       "      <td>Comanche County, Oklahoma</td>\n",
       "      <td>795</td>\n",
       "      <td>322</td>\n",
       "    </tr>\n",
       "    <tr>\n",
       "      <th>5468</th>\n",
       "      <td>0500000US42071</td>\n",
       "      <td>42071</td>\n",
       "      <td>42</td>\n",
       "      <td>Korean alone or in any combination (440-441) &amp;...</td>\n",
       "      <td>Lancaster County, Pennsylvania</td>\n",
       "      <td>845</td>\n",
       "      <td>257</td>\n",
       "    </tr>\n",
       "    <tr>\n",
       "      <th>5469</th>\n",
       "      <td>0500000US36085</td>\n",
       "      <td>36085</td>\n",
       "      <td>48</td>\n",
       "      <td>Vietnamese alone or in any combination (450-45...</td>\n",
       "      <td>Richmond County, New York</td>\n",
       "      <td>831</td>\n",
       "      <td>415</td>\n",
       "    </tr>\n",
       "    <tr>\n",
       "      <th>5470</th>\n",
       "      <td>0500000US37067</td>\n",
       "      <td>37067</td>\n",
       "      <td>42</td>\n",
       "      <td>Korean alone or in any combination (440-441) &amp;...</td>\n",
       "      <td>Forsyth County, North Carolina</td>\n",
       "      <td>742</td>\n",
       "      <td>233</td>\n",
       "    </tr>\n",
       "    <tr>\n",
       "      <th>5471</th>\n",
       "      <td>0500000US48039</td>\n",
       "      <td>48039</td>\n",
       "      <td>48</td>\n",
       "      <td>Vietnamese alone or in any combination (450-45...</td>\n",
       "      <td>Brazoria County, Texas</td>\n",
       "      <td>5060</td>\n",
       "      <td>1449</td>\n",
       "    </tr>\n",
       "  </tbody>\n",
       "</table>\n",
       "<p>5471 rows × 7 columns</p>\n",
       "</div>"
      ],
      "text/plain": [
       "              GEO_ID   FIPS POPGROUP  \\\n",
       "1     0500000US06081  06081       26   \n",
       "2     0500000US25027  25027       13   \n",
       "3     0500000US37081  37081       34   \n",
       "4     0500000US53033  53033       17   \n",
       "5     0500000US04013  04013       33   \n",
       "...              ...    ...      ...   \n",
       "5467  0500000US40031  40031       41   \n",
       "5468  0500000US42071  42071       42   \n",
       "5469  0500000US36085  36085       48   \n",
       "5470  0500000US37067  37067       42   \n",
       "5471  0500000US48039  48039       48   \n",
       "\n",
       "                                         POPGROUP_LABEL  \\\n",
       "1                                 Pakistani alone (445)   \n",
       "2                          Asian Indian alone (400-401)   \n",
       "3     Cambodian alone or in any combination (405-409...   \n",
       "4            Chinese (except Taiwanese) alone (410-411)   \n",
       "5     Bangladeshi alone or in any combination (402) ...   \n",
       "...                                                 ...   \n",
       "5467  Japanese alone or in any combination (430-439)...   \n",
       "5468  Korean alone or in any combination (440-441) &...   \n",
       "5469  Vietnamese alone or in any combination (450-45...   \n",
       "5470  Korean alone or in any combination (440-441) &...   \n",
       "5471  Vietnamese alone or in any combination (450-45...   \n",
       "\n",
       "                                 NAME estimated_pop B01003_001M  \n",
       "1        San Mateo County, California          1017         369  \n",
       "2     Worcester County, Massachusetts         11017        1036  \n",
       "3     Guilford County, North Carolina          1227         519  \n",
       "4             King County, Washington         79421        2516  \n",
       "5            Maricopa County, Arizona          1415         463  \n",
       "...                               ...           ...         ...  \n",
       "5467        Comanche County, Oklahoma           795         322  \n",
       "5468   Lancaster County, Pennsylvania           845         257  \n",
       "5469        Richmond County, New York           831         415  \n",
       "5470   Forsyth County, North Carolina           742         233  \n",
       "5471           Brazoria County, Texas          5060        1449  \n",
       "\n",
       "[5471 rows x 7 columns]"
      ]
     },
     "execution_count": 134,
     "metadata": {},
     "output_type": "execute_result"
    }
   ],
   "source": [
    "asian_data_updated"
   ]
  },
  {
   "cell_type": "code",
   "execution_count": 135,
   "id": "2c7a18fd-a221-4054-a2f1-f0074dc26ead",
   "metadata": {},
   "outputs": [
    {
     "data": {
      "text/plain": [
       "1       06081\n",
       "2       25027\n",
       "3       37081\n",
       "4       53033\n",
       "5       04013\n",
       "        ...  \n",
       "5467    40031\n",
       "5468    42071\n",
       "5469    36085\n",
       "5470    37067\n",
       "5471    48039\n",
       "Name: FIPS, Length: 5471, dtype: object"
      ]
     },
     "execution_count": 135,
     "metadata": {},
     "output_type": "execute_result"
    }
   ],
   "source": [
    "asian_fips = asian_data_updated[\"FIPS\"]\n",
    "asian_fips"
   ]
  },
  {
   "cell_type": "code",
   "execution_count": 136,
   "id": "387023df-907e-4a1d-a221-f89dadf28ff7",
   "metadata": {},
   "outputs": [],
   "source": [
    "invalid_asian_fips = invalid_fips(asian_fips)\n",
    "assert len(invalid_asian_fips) == 0"
   ]
  },
  {
   "cell_type": "code",
   "execution_count": 137,
   "id": "17d95acb-6cb7-4203-bc05-e24fbcffb613",
   "metadata": {},
   "outputs": [],
   "source": [
    "asian_name = asian_data_updated[\"NAME\"]"
   ]
  },
  {
   "cell_type": "code",
   "execution_count": 138,
   "id": "cddfa6c6-8a7a-43e7-ae8c-708504cb0acd",
   "metadata": {},
   "outputs": [
    {
     "data": {
      "text/plain": [
       "1          San Mateo County, California\n",
       "2       Worcester County, Massachusetts\n",
       "3       Guilford County, North Carolina\n",
       "4               King County, Washington\n",
       "5              Maricopa County, Arizona\n",
       "                     ...               \n",
       "5467          Comanche County, Oklahoma\n",
       "5468     Lancaster County, Pennsylvania\n",
       "5469          Richmond County, New York\n",
       "5470     Forsyth County, North Carolina\n",
       "5471             Brazoria County, Texas\n",
       "Name: NAME, Length: 5471, dtype: object"
      ]
     },
     "execution_count": 138,
     "metadata": {},
     "output_type": "execute_result"
    }
   ],
   "source": [
    "asian_name"
   ]
  },
  {
   "cell_type": "code",
   "execution_count": 139,
   "id": "863272a2-d14d-4b2e-860a-e7377a4ed4c8",
   "metadata": {},
   "outputs": [
    {
     "data": {
      "text/plain": [
       "<zip at 0x11c95f1c0>"
      ]
     },
     "execution_count": 139,
     "metadata": {},
     "output_type": "execute_result"
    }
   ],
   "source": [
    "zip(asian_data_updated.POPGROUP, asian_data_updated.POPGROUP_LABEL)"
   ]
  },
  {
   "cell_type": "code",
   "execution_count": 140,
   "id": "65d089f1-c684-4051-9313-a9c60ab13785",
   "metadata": {},
   "outputs": [
    {
     "data": {
      "text/plain": [
       "{'26': 'Pakistani alone (445)',\n",
       " '13': 'Asian Indian alone (400-401)',\n",
       " '34': 'Cambodian alone or in any combination (405-409) & (100-299) or (300, A01-Z99) or (400-999)',\n",
       " '17': 'Chinese (except Taiwanese) alone (410-411)',\n",
       " '33': 'Bangladeshi alone or in any combination (402) & (100-299) or (300, A01-Z99) or (400-999)',\n",
       " '20': 'Hmong alone (422)',\n",
       " '22': 'Japanese alone (430-439)',\n",
       " '47': 'Thai alone or in any combination (447-449) & (100-299) or (300, A01-Z99) or (400-999)',\n",
       " '32': 'Asian Indian alone or in any combination (400-401) & (100-299) or (300, A01-Z99) or (400-999)',\n",
       " '35': 'Chinese alone or in any combination (410-419) & (100-299) or (300, A01-Z99) or (400-999)',\n",
       " '43': 'Laotian alone or in any combination (442) & (100-299) or (300, A01-Z99) or (400-999)',\n",
       " '48': 'Vietnamese alone or in any combination (450-459) & (100-299) or (300, A01-Z99) or (400-999)',\n",
       " '42': 'Korean alone or in any combination (440-441) & (100-299) or (300, A01-Z99) or (400-999)',\n",
       " '29': 'Vietnamese alone (450-459)',\n",
       " '28': 'Thai alone (447-449)',\n",
       " '19': 'Filipino alone (420-421)',\n",
       " '38': 'Filipino alone or in any combination (420-421) & (100-299) or (300, A01-Z99) or (400-999)',\n",
       " '39': 'Hmong alone or in any combination (422) & (100-299) or (300, A01-Z99) or (400-999)',\n",
       " '44': 'Malaysian alone or in any combination (443) & (100-299) or (300, A01-Z99) or (400-999)',\n",
       " '41': 'Japanese alone or in any combination (430-439) & (100-299) or (300, A01-Z99) or (400-999)',\n",
       " '16': 'Chinese alone (410-419)',\n",
       " '23': 'Korean alone (440-441)',\n",
       " '36': 'Chinese (except Taiwanese) alone or in any combination (410-411) & (100-299) or (300, A01-Z99) or (400-999)',\n",
       " '81': 'Burmese alone or in any combination (404) & (100-299) or (300, A01-Z99) or (400-999)',\n",
       " '18': 'Taiwanese alone (412-419)',\n",
       " '14': 'Bangladeshi alone (402)',\n",
       " '15': 'Cambodian alone (405-409)',\n",
       " '45': 'Pakistani alone or in any combination (445) & (100-299) or (300, A01-Z99) or (400-999)',\n",
       " '24': 'Laotian alone (442)',\n",
       " '37': 'Taiwanese alone or in any combination (412-419) & (100-299) or (300, A01-Z99) or (400-999)',\n",
       " '40': 'Indonesian alone or in any combination (423-429) & (100-299) or (300, A01-Z99) or (400-999)',\n",
       " '46': 'Sri Lankan alone or in any combination (446) & (100-299) or (300, A01-Z99) or (400-999)',\n",
       " '84': 'Nepalese alone or in any combination (472) & (100-299) or (300, A01-Z99) or (400-999)',\n",
       " '73': 'Burmese alone (404)',\n",
       " '27': 'Sri Lankan alone (446)',\n",
       " '21': 'Indonesian alone (423-429)',\n",
       " '80': 'Bhutanese alone or in any combination (403) & (100-299) or (300, A01-Z99) or (400-999)',\n",
       " '76': 'Nepalese alone (472)',\n",
       " '83': 'Mongolian alone or in any combination (465) & (100-299) or (300, A01-Z99) or (400-999)',\n",
       " '75': 'Mongolian alone (465)',\n",
       " '25': 'Malaysian alone (443)',\n",
       " '72': 'Bhutanese alone (403)',\n",
       " '85': 'Okinawan alone or in any combination (444) & (100-299) or (300, A01-Z99) or (400-999)'}"
      ]
     },
     "execution_count": 140,
     "metadata": {},
     "output_type": "execute_result"
    }
   ],
   "source": [
    "dict(zip(asian_data_updated.POPGROUP, asian_data_updated.POPGROUP_LABEL))"
   ]
  },
  {
   "cell_type": "code",
   "execution_count": 141,
   "id": "ecab773c-04c8-48f8-a9b7-60813c33ffed",
   "metadata": {},
   "outputs": [
    {
     "data": {
      "text/plain": [
       "Index(['GEO_ID', 'FIPS', 'POPGROUP', 'POPGROUP_LABEL', 'NAME', 'estimated_pop',\n",
       "       'B01003_001M'],\n",
       "      dtype='object')"
      ]
     },
     "execution_count": 141,
     "metadata": {},
     "output_type": "execute_result"
    }
   ],
   "source": [
    "asian_data_updated.columns"
   ]
  },
  {
   "cell_type": "code",
   "execution_count": 142,
   "id": "313562a2-2cc0-46e9-92ee-fe7c80f94ece",
   "metadata": {},
   "outputs": [],
   "source": [
    "keep_cols = [\"FIPS\", \"POPGROUP\", \"estimated_pop\", \"POPGROUP_LABEL\"]"
   ]
  },
  {
   "cell_type": "code",
   "execution_count": 143,
   "id": "bfd0b681-0ccb-4c6a-a164-57edb65f40c0",
   "metadata": {},
   "outputs": [
    {
     "data": {
      "text/plain": [
       "Index(['FIPS', 'POPGROUP', 'POPGROUP_LABEL', 'estimated_pop'], dtype='object')"
      ]
     },
     "execution_count": 143,
     "metadata": {},
     "output_type": "execute_result"
    }
   ],
   "source": [
    "remove_cols(asian_data_updated, keep_cols)\n",
    "asian_data_updated.columns"
   ]
  },
  {
   "cell_type": "code",
   "execution_count": 144,
   "id": "b5649879-0381-4efd-8bd9-b41f53f2bf09",
   "metadata": {},
   "outputs": [],
   "source": [
    "asian_data_output_path = \"~/ASR-PM2.5/datasets/intermediate_datasets/resultforasiandataset.csv\""
   ]
  },
  {
   "cell_type": "code",
   "execution_count": 145,
   "id": "50dab349-af5a-4a4c-b837-4d5a7272182b",
   "metadata": {},
   "outputs": [],
   "source": [
    "asian_data_updated.to_csv(asian_data_output_path)"
   ]
  },
  {
   "cell_type": "code",
   "execution_count": null,
   "id": "05362ae2-7d96-42b3-b109-8590c79a97f7",
   "metadata": {},
   "outputs": [],
   "source": []
  }
 ],
 "metadata": {
  "kernelspec": {
   "display_name": "Python 3 (ipykernel)",
   "language": "python",
   "name": "python3"
  },
  "language_info": {
   "codemirror_mode": {
    "name": "ipython",
    "version": 3
   },
   "file_extension": ".py",
   "mimetype": "text/x-python",
   "name": "python",
   "nbconvert_exporter": "python",
   "pygments_lexer": "ipython3",
   "version": "3.9.6"
  }
 },
 "nbformat": 4,
 "nbformat_minor": 5
}
