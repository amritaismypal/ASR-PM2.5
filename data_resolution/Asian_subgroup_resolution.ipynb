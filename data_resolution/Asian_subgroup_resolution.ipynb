{
 "cells": [
  {
   "cell_type": "code",
   "execution_count": 179,
   "id": "c9eb9bc7-4e11-4d51-bea6-dadc9f05ffc9",
   "metadata": {},
   "outputs": [],
   "source": [
    "%reload_ext autoreload\n",
    "%autoreload 2\n",
    "\n",
    "import numpy as np\n",
    "import pandas as pd\n",
    "import sys\n",
    "sys.path.append(\"..\")\n",
    "from helpers import invalid_fips, remove_cols"
   ]
  },
  {
   "cell_type": "code",
   "execution_count": 180,
   "id": "ae8df4cd-6273-4434-a547-4edba1286bef",
   "metadata": {},
   "outputs": [],
   "source": [
    "asian_data_path = \"~/ASR-PM2.5/datasets/input_datasets/Asian_subgroup/2015Asiansubgroupdataset.csv\"\n",
    "\n",
    "asian_data = pd.read_csv(asian_data_path, dtype = {\"FIPS\": str}).dropna()"
   ]
  },
  {
   "cell_type": "code",
   "execution_count": 181,
   "id": "da08b14e-8a65-48b9-a75a-86604f8d142b",
   "metadata": {},
   "outputs": [
    {
     "name": "stderr",
     "output_type": "stream",
     "text": [
      "/var/folders/xs/xr5mc0wn26g78w7wsfh6hcph0000gq/T/ipykernel_52754/4208776726.py:6: FutureWarning: The default value of regex will change from True to False in a future version. In addition, single character regular expressions will *not* be treated as literal strings when regex=True.\n",
      "  asian_data[\"POPGROUP_LABEL\"] = asian_data[\"POPGROUP_LABEL\"].str.replace(char, \"\")\n"
     ]
    }
   ],
   "source": [
    "spec_chars = [\"!\",'\"',\"#\",\"%\",\"&\",\"'\",\"(\",\")\",\"*\",\"+\",\",\",\"-\",\".\",\"/\",\":\",\";\",\"<\",\n",
    "              \"=\",\">\",\"?\",\"@\",\"[\",\"\\\\\",\"]\",\"^\",\"_\",\"`\",\"{\",\"|\",\"}\",\"~\",\"–\",\n",
    "              str(1), str(2), str(3), str(4), str(5), str(6), str(7), str(8), str(9), str(0)]\n",
    "\n",
    "for char in spec_chars:\n",
    "    asian_data[\"POPGROUP_LABEL\"] = asian_data[\"POPGROUP_LABEL\"].str.replace(char, \"\")\n",
    "\n",
    "asian_data[\"POPGROUP_LABEL\"] = asian_data[\"POPGROUP_LABEL\"].str.replace(\" or\", \" \")\n",
    "asian_data[\"POPGROUP_LABEL\"] = asian_data[\"POPGROUP_LABEL\"].str.replace(\" AZ\", \" \")\n",
    "\n",
    "asian_data[\"POPGROUP_LABEL\"] = asian_data[\"POPGROUP_LABEL\"].str.split().str.join(\" \")"
   ]
  },
  {
   "cell_type": "code",
   "execution_count": 182,
   "id": "6f83796c-c4be-4038-94be-e33b89264f51",
   "metadata": {},
   "outputs": [],
   "source": [
    "asian_data_updated = asian_data.rename(columns = {\"B01003_001E\": \"estimated_pop\"})"
   ]
  },
  {
   "cell_type": "code",
   "execution_count": 183,
   "id": "74604aa2-8f1b-4dfb-94ba-32b9b05c78c9",
   "metadata": {},
   "outputs": [
    {
     "data": {
      "text/html": [
       "<div>\n",
       "<style scoped>\n",
       "    .dataframe tbody tr th:only-of-type {\n",
       "        vertical-align: middle;\n",
       "    }\n",
       "\n",
       "    .dataframe tbody tr th {\n",
       "        vertical-align: top;\n",
       "    }\n",
       "\n",
       "    .dataframe thead th {\n",
       "        text-align: right;\n",
       "    }\n",
       "</style>\n",
       "<table border=\"1\" class=\"dataframe\">\n",
       "  <thead>\n",
       "    <tr style=\"text-align: right;\">\n",
       "      <th></th>\n",
       "      <th>GEO_ID</th>\n",
       "      <th>FIPS</th>\n",
       "      <th>POPGROUP</th>\n",
       "      <th>POPGROUP_LABEL</th>\n",
       "      <th>NAME</th>\n",
       "      <th>estimated_pop</th>\n",
       "      <th>B01003_001M</th>\n",
       "    </tr>\n",
       "  </thead>\n",
       "  <tbody>\n",
       "    <tr>\n",
       "      <th>1</th>\n",
       "      <td>0500000US06081</td>\n",
       "      <td>06081</td>\n",
       "      <td>26</td>\n",
       "      <td>Pakistani alone</td>\n",
       "      <td>San Mateo County, California</td>\n",
       "      <td>1017</td>\n",
       "      <td>369</td>\n",
       "    </tr>\n",
       "    <tr>\n",
       "      <th>2</th>\n",
       "      <td>0500000US25027</td>\n",
       "      <td>25027</td>\n",
       "      <td>13</td>\n",
       "      <td>Asian Indian alone</td>\n",
       "      <td>Worcester County, Massachusetts</td>\n",
       "      <td>11017</td>\n",
       "      <td>1036</td>\n",
       "    </tr>\n",
       "    <tr>\n",
       "      <th>3</th>\n",
       "      <td>0500000US37081</td>\n",
       "      <td>37081</td>\n",
       "      <td>34</td>\n",
       "      <td>Cambodian alone in any combination</td>\n",
       "      <td>Guilford County, North Carolina</td>\n",
       "      <td>1227</td>\n",
       "      <td>519</td>\n",
       "    </tr>\n",
       "    <tr>\n",
       "      <th>4</th>\n",
       "      <td>0500000US53033</td>\n",
       "      <td>53033</td>\n",
       "      <td>17</td>\n",
       "      <td>Chinese except Taiwanese alone</td>\n",
       "      <td>King County, Washington</td>\n",
       "      <td>79421</td>\n",
       "      <td>2516</td>\n",
       "    </tr>\n",
       "    <tr>\n",
       "      <th>5</th>\n",
       "      <td>0500000US04013</td>\n",
       "      <td>04013</td>\n",
       "      <td>33</td>\n",
       "      <td>Bangladeshi alone in any combination</td>\n",
       "      <td>Maricopa County, Arizona</td>\n",
       "      <td>1415</td>\n",
       "      <td>463</td>\n",
       "    </tr>\n",
       "    <tr>\n",
       "      <th>...</th>\n",
       "      <td>...</td>\n",
       "      <td>...</td>\n",
       "      <td>...</td>\n",
       "      <td>...</td>\n",
       "      <td>...</td>\n",
       "      <td>...</td>\n",
       "      <td>...</td>\n",
       "    </tr>\n",
       "    <tr>\n",
       "      <th>5467</th>\n",
       "      <td>0500000US40031</td>\n",
       "      <td>40031</td>\n",
       "      <td>41</td>\n",
       "      <td>Japanese alone in any combination</td>\n",
       "      <td>Comanche County, Oklahoma</td>\n",
       "      <td>795</td>\n",
       "      <td>322</td>\n",
       "    </tr>\n",
       "    <tr>\n",
       "      <th>5468</th>\n",
       "      <td>0500000US42071</td>\n",
       "      <td>42071</td>\n",
       "      <td>42</td>\n",
       "      <td>Korean alone in any combination</td>\n",
       "      <td>Lancaster County, Pennsylvania</td>\n",
       "      <td>845</td>\n",
       "      <td>257</td>\n",
       "    </tr>\n",
       "    <tr>\n",
       "      <th>5469</th>\n",
       "      <td>0500000US36085</td>\n",
       "      <td>36085</td>\n",
       "      <td>48</td>\n",
       "      <td>Vietnamese alone in any combination</td>\n",
       "      <td>Richmond County, New York</td>\n",
       "      <td>831</td>\n",
       "      <td>415</td>\n",
       "    </tr>\n",
       "    <tr>\n",
       "      <th>5470</th>\n",
       "      <td>0500000US37067</td>\n",
       "      <td>37067</td>\n",
       "      <td>42</td>\n",
       "      <td>Korean alone in any combination</td>\n",
       "      <td>Forsyth County, North Carolina</td>\n",
       "      <td>742</td>\n",
       "      <td>233</td>\n",
       "    </tr>\n",
       "    <tr>\n",
       "      <th>5471</th>\n",
       "      <td>0500000US48039</td>\n",
       "      <td>48039</td>\n",
       "      <td>48</td>\n",
       "      <td>Vietnamese alone in any combination</td>\n",
       "      <td>Brazoria County, Texas</td>\n",
       "      <td>5060</td>\n",
       "      <td>1449</td>\n",
       "    </tr>\n",
       "  </tbody>\n",
       "</table>\n",
       "<p>5471 rows × 7 columns</p>\n",
       "</div>"
      ],
      "text/plain": [
       "              GEO_ID   FIPS POPGROUP                        POPGROUP_LABEL  \\\n",
       "1     0500000US06081  06081       26                       Pakistani alone   \n",
       "2     0500000US25027  25027       13                    Asian Indian alone   \n",
       "3     0500000US37081  37081       34    Cambodian alone in any combination   \n",
       "4     0500000US53033  53033       17        Chinese except Taiwanese alone   \n",
       "5     0500000US04013  04013       33  Bangladeshi alone in any combination   \n",
       "...              ...    ...      ...                                   ...   \n",
       "5467  0500000US40031  40031       41     Japanese alone in any combination   \n",
       "5468  0500000US42071  42071       42       Korean alone in any combination   \n",
       "5469  0500000US36085  36085       48   Vietnamese alone in any combination   \n",
       "5470  0500000US37067  37067       42       Korean alone in any combination   \n",
       "5471  0500000US48039  48039       48   Vietnamese alone in any combination   \n",
       "\n",
       "                                 NAME estimated_pop B01003_001M  \n",
       "1        San Mateo County, California          1017         369  \n",
       "2     Worcester County, Massachusetts         11017        1036  \n",
       "3     Guilford County, North Carolina          1227         519  \n",
       "4             King County, Washington         79421        2516  \n",
       "5            Maricopa County, Arizona          1415         463  \n",
       "...                               ...           ...         ...  \n",
       "5467        Comanche County, Oklahoma           795         322  \n",
       "5468   Lancaster County, Pennsylvania           845         257  \n",
       "5469        Richmond County, New York           831         415  \n",
       "5470   Forsyth County, North Carolina           742         233  \n",
       "5471           Brazoria County, Texas          5060        1449  \n",
       "\n",
       "[5471 rows x 7 columns]"
      ]
     },
     "execution_count": 183,
     "metadata": {},
     "output_type": "execute_result"
    }
   ],
   "source": [
    "asian_data_updated"
   ]
  },
  {
   "cell_type": "code",
   "execution_count": 184,
   "id": "2c7a18fd-a221-4054-a2f1-f0074dc26ead",
   "metadata": {},
   "outputs": [
    {
     "data": {
      "text/plain": [
       "1       06081\n",
       "2       25027\n",
       "3       37081\n",
       "4       53033\n",
       "5       04013\n",
       "        ...  \n",
       "5467    40031\n",
       "5468    42071\n",
       "5469    36085\n",
       "5470    37067\n",
       "5471    48039\n",
       "Name: FIPS, Length: 5471, dtype: object"
      ]
     },
     "execution_count": 184,
     "metadata": {},
     "output_type": "execute_result"
    }
   ],
   "source": [
    "asian_fips = asian_data_updated[\"FIPS\"]\n",
    "asian_fips"
   ]
  },
  {
   "cell_type": "code",
   "execution_count": 185,
   "id": "387023df-907e-4a1d-a221-f89dadf28ff7",
   "metadata": {},
   "outputs": [],
   "source": [
    "invalid_asian_fips = invalid_fips(asian_fips)\n",
    "assert len(invalid_asian_fips) == 0"
   ]
  },
  {
   "cell_type": "code",
   "execution_count": 186,
   "id": "17d95acb-6cb7-4203-bc05-e24fbcffb613",
   "metadata": {},
   "outputs": [],
   "source": [
    "asian_name = asian_data_updated[\"NAME\"]"
   ]
  },
  {
   "cell_type": "code",
   "execution_count": 187,
   "id": "cddfa6c6-8a7a-43e7-ae8c-708504cb0acd",
   "metadata": {},
   "outputs": [
    {
     "data": {
      "text/plain": [
       "1          San Mateo County, California\n",
       "2       Worcester County, Massachusetts\n",
       "3       Guilford County, North Carolina\n",
       "4               King County, Washington\n",
       "5              Maricopa County, Arizona\n",
       "                     ...               \n",
       "5467          Comanche County, Oklahoma\n",
       "5468     Lancaster County, Pennsylvania\n",
       "5469          Richmond County, New York\n",
       "5470     Forsyth County, North Carolina\n",
       "5471             Brazoria County, Texas\n",
       "Name: NAME, Length: 5471, dtype: object"
      ]
     },
     "execution_count": 187,
     "metadata": {},
     "output_type": "execute_result"
    }
   ],
   "source": [
    "asian_name"
   ]
  },
  {
   "cell_type": "code",
   "execution_count": 188,
   "id": "ecab773c-04c8-48f8-a9b7-60813c33ffed",
   "metadata": {},
   "outputs": [
    {
     "data": {
      "text/plain": [
       "Index(['GEO_ID', 'FIPS', 'POPGROUP', 'POPGROUP_LABEL', 'NAME', 'estimated_pop',\n",
       "       'B01003_001M'],\n",
       "      dtype='object')"
      ]
     },
     "execution_count": 188,
     "metadata": {},
     "output_type": "execute_result"
    }
   ],
   "source": [
    "asian_data_updated.columns"
   ]
  },
  {
   "cell_type": "code",
   "execution_count": 189,
   "id": "313562a2-2cc0-46e9-92ee-fe7c80f94ece",
   "metadata": {},
   "outputs": [],
   "source": [
    "keep_cols = [\"FIPS\", \"POPGROUP\", \"estimated_pop\", \"POPGROUP_LABEL\"]"
   ]
  },
  {
   "cell_type": "code",
   "execution_count": 190,
   "id": "bfd0b681-0ccb-4c6a-a164-57edb65f40c0",
   "metadata": {},
   "outputs": [
    {
     "data": {
      "text/plain": [
       "Index(['FIPS', 'POPGROUP', 'POPGROUP_LABEL', 'estimated_pop'], dtype='object')"
      ]
     },
     "execution_count": 190,
     "metadata": {},
     "output_type": "execute_result"
    }
   ],
   "source": [
    "remove_cols(asian_data_updated, keep_cols)\n",
    "asian_data_updated.columns"
   ]
  },
  {
   "cell_type": "code",
   "execution_count": 191,
   "id": "b5649879-0381-4efd-8bd9-b41f53f2bf09",
   "metadata": {},
   "outputs": [],
   "source": [
    "asian_data_output_path = \"~/ASR-PM2.5/datasets/intermediate_datasets/resultforasiandataset.csv\""
   ]
  },
  {
   "cell_type": "code",
   "execution_count": 192,
   "id": "50dab349-af5a-4a4c-b837-4d5a7272182b",
   "metadata": {},
   "outputs": [],
   "source": [
    "asian_data_updated.to_csv(asian_data_output_path)"
   ]
  },
  {
   "cell_type": "code",
   "execution_count": 16,
   "id": "05362ae2-7d96-42b3-b109-8590c79a97f7",
   "metadata": {},
   "outputs": [
    {
     "data": {
      "text/html": [
       "<div>\n",
       "<style scoped>\n",
       "    .dataframe tbody tr th:only-of-type {\n",
       "        vertical-align: middle;\n",
       "    }\n",
       "\n",
       "    .dataframe tbody tr th {\n",
       "        vertical-align: top;\n",
       "    }\n",
       "\n",
       "    .dataframe thead th {\n",
       "        text-align: right;\n",
       "    }\n",
       "</style>\n",
       "<table border=\"1\" class=\"dataframe\">\n",
       "  <thead>\n",
       "    <tr style=\"text-align: right;\">\n",
       "      <th></th>\n",
       "      <th>first_column</th>\n",
       "      <th>second_column</th>\n",
       "    </tr>\n",
       "  </thead>\n",
       "  <tbody>\n",
       "    <tr>\n",
       "      <th>0</th>\n",
       "      <td>first_value</td>\n",
       "      <td>12345</td>\n",
       "    </tr>\n",
       "    <tr>\n",
       "      <th>1</th>\n",
       "      <td>second_value</td>\n",
       "      <td>1234</td>\n",
       "    </tr>\n",
       "  </tbody>\n",
       "</table>\n",
       "</div>"
      ],
      "text/plain": [
       "   first_column second_column\n",
       "0   first_value         12345\n",
       "1  second_value          1234"
      ]
     },
     "execution_count": 16,
     "metadata": {},
     "output_type": "execute_result"
    }
   ],
   "source": [
    "data = {'first_column':  ['first_value', 'second_value'],\n",
    "        'second_column': [\"12345\", \"1234\"]}\n",
    "\n",
    "df = pd.DataFrame(data)\n",
    "\n",
    "df"
   ]
  },
  {
   "cell_type": "code",
   "execution_count": 17,
   "id": "1c33ebf2-5f13-4528-8d90-2406139b6655",
   "metadata": {},
   "outputs": [],
   "source": [
    "invalid_random = invalid_fips(df[\"second_column\"])\n",
    "assert len(invalid_random) == 1"
   ]
  },
  {
   "cell_type": "code",
   "execution_count": 75,
   "id": "5c8473f3-f5a7-4a89-84d8-fded6bd7d0d1",
   "metadata": {},
   "outputs": [
    {
     "ename": "TypeError",
     "evalue": "object of type 'bool' has no len()",
     "output_type": "error",
     "traceback": [
      "\u001b[0;31m---------------------------------------------------------------------------\u001b[0m",
      "\u001b[0;31mTypeError\u001b[0m                                 Traceback (most recent call last)",
      "\u001b[0;32m/var/folders/xs/xr5mc0wn26g78w7wsfh6hcph0000gq/T/ipykernel_39481/699967677.py\u001b[0m in \u001b[0;36m<module>\u001b[0;34m\u001b[0m\n\u001b[1;32m      1\u001b[0m \u001b[0;32mfor\u001b[0m \u001b[0mvalue\u001b[0m \u001b[0;32min\u001b[0m \u001b[0mdf\u001b[0m\u001b[0;34m.\u001b[0m\u001b[0msecond_column\u001b[0m\u001b[0;34m:\u001b[0m\u001b[0;34m\u001b[0m\u001b[0;34m\u001b[0m\u001b[0m\n\u001b[0;32m----> 2\u001b[0;31m     \u001b[0;32mif\u001b[0m \u001b[0;34m(\u001b[0m\u001b[0mlen\u001b[0m\u001b[0;34m(\u001b[0m\u001b[0minvalid_random\u001b[0m \u001b[0;34m!=\u001b[0m \u001b[0;36m0\u001b[0m\u001b[0;34m)\u001b[0m\u001b[0;34m)\u001b[0m \u001b[0;32mis\u001b[0m \u001b[0;32mTrue\u001b[0m\u001b[0;34m:\u001b[0m\u001b[0;34m\u001b[0m\u001b[0;34m\u001b[0m\u001b[0m\n\u001b[0m\u001b[1;32m      3\u001b[0m         \u001b[0mdf\u001b[0m\u001b[0;34m.\u001b[0m\u001b[0mdrop\u001b[0m\u001b[0;34m(\u001b[0m\u001b[0mvalue\u001b[0m\u001b[0;34m,\u001b[0m \u001b[0minplace\u001b[0m \u001b[0;34m=\u001b[0m \u001b[0;32mTrue\u001b[0m\u001b[0;34m,\u001b[0m \u001b[0maxis\u001b[0m \u001b[0;34m=\u001b[0m \u001b[0;36m0\u001b[0m\u001b[0;34m)\u001b[0m\u001b[0;34m\u001b[0m\u001b[0;34m\u001b[0m\u001b[0m\n",
      "\u001b[0;31mTypeError\u001b[0m: object of type 'bool' has no len()"
     ]
    }
   ],
   "source": [
    "for value in df.second_column:\n",
    "    if (len(invalid_random != 0)) is True:\n",
    "        df.drop(value, inplace = True, axis = 0)"
   ]
  },
  {
   "cell_type": "code",
   "execution_count": null,
   "id": "9c905d00-6224-4174-af51-38d2096849de",
   "metadata": {},
   "outputs": [],
   "source": []
  }
 ],
 "metadata": {
  "kernelspec": {
   "display_name": "Python 3 (ipykernel)",
   "language": "python",
   "name": "python3"
  },
  "language_info": {
   "codemirror_mode": {
    "name": "ipython",
    "version": 3
   },
   "file_extension": ".py",
   "mimetype": "text/x-python",
   "name": "python",
   "nbconvert_exporter": "python",
   "pygments_lexer": "ipython3",
   "version": "3.9.6"
  }
 },
 "nbformat": 4,
 "nbformat_minor": 5
}
