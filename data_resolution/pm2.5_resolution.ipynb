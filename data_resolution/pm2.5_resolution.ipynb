{
 "cells": [
  {
   "cell_type": "code",
   "execution_count": 12,
   "id": "fd052e3f-73cb-4840-98fc-6d518a0923fe",
   "metadata": {},
   "outputs": [],
   "source": [
    "%reload_ext autoreload\n",
    "%autoreload 2\n",
    "\n",
    "import numpy as np\n",
    "import pandas as pd\n",
    "import sys\n",
    "sys.path.append(\"..\")\n",
    "from helpers import invalid_fips, remove_cols"
   ]
  },
  {
   "cell_type": "code",
   "execution_count": 13,
   "id": "cb2c54b8-32da-45e9-8701-b74b926d5ba6",
   "metadata": {},
   "outputs": [],
   "source": [
    "pm_data_path = \"~/ASR-PM2.5/datasets/input_datasets/pm2.5/2015pm2.5dataset.csv\"\n",
    "pm_data = pd.read_csv(pm_data_path, dtype = {\"fips\": str}).dropna()"
   ]
  },
  {
   "cell_type": "code",
   "execution_count": 14,
   "id": "7cdb2cb1-a375-45da-80c1-fb9cf22c3259",
   "metadata": {},
   "outputs": [],
   "source": [
    "# renaming for future merging of both data-resolution datasets\n",
    "\n",
    "pm_data_updated = pm_data.rename(columns = {\"fips\": \"FIPS\"})"
   ]
  },
  {
   "cell_type": "code",
   "execution_count": 15,
   "id": "5ef49b8d-de00-46c4-9962-6e2fe39986aa",
   "metadata": {},
   "outputs": [
    {
     "data": {
      "text/html": [
       "<div>\n",
       "<style scoped>\n",
       "    .dataframe tbody tr th:only-of-type {\n",
       "        vertical-align: middle;\n",
       "    }\n",
       "\n",
       "    .dataframe tbody tr th {\n",
       "        vertical-align: top;\n",
       "    }\n",
       "\n",
       "    .dataframe thead th {\n",
       "        text-align: right;\n",
       "    }\n",
       "</style>\n",
       "<table border=\"1\" class=\"dataframe\">\n",
       "  <thead>\n",
       "    <tr style=\"text-align: right;\">\n",
       "      <th></th>\n",
       "      <th>FIPS</th>\n",
       "      <th>pollutant</th>\n",
       "      <th>year</th>\n",
       "      <th>pred_wght</th>\n",
       "      <th>state_abbr</th>\n",
       "      <th>lat</th>\n",
       "      <th>lon</th>\n",
       "    </tr>\n",
       "  </thead>\n",
       "  <tbody>\n",
       "    <tr>\n",
       "      <th>0</th>\n",
       "      <td>01001</td>\n",
       "      <td>pm25</td>\n",
       "      <td>2015</td>\n",
       "      <td>7.676696</td>\n",
       "      <td>AL</td>\n",
       "      <td>32.500383</td>\n",
       "      <td>-86.494186</td>\n",
       "    </tr>\n",
       "    <tr>\n",
       "      <th>1</th>\n",
       "      <td>01003</td>\n",
       "      <td>pm25</td>\n",
       "      <td>2015</td>\n",
       "      <td>7.371883</td>\n",
       "      <td>AL</td>\n",
       "      <td>30.548923</td>\n",
       "      <td>-87.762466</td>\n",
       "    </tr>\n",
       "    <tr>\n",
       "      <th>2</th>\n",
       "      <td>01005</td>\n",
       "      <td>pm25</td>\n",
       "      <td>2015</td>\n",
       "      <td>7.238605</td>\n",
       "      <td>AL</td>\n",
       "      <td>31.844037</td>\n",
       "      <td>-85.309929</td>\n",
       "    </tr>\n",
       "    <tr>\n",
       "      <th>3</th>\n",
       "      <td>01007</td>\n",
       "      <td>pm25</td>\n",
       "      <td>2015</td>\n",
       "      <td>7.927948</td>\n",
       "      <td>AL</td>\n",
       "      <td>33.030918</td>\n",
       "      <td>-87.127655</td>\n",
       "    </tr>\n",
       "    <tr>\n",
       "      <th>4</th>\n",
       "      <td>01009</td>\n",
       "      <td>pm25</td>\n",
       "      <td>2015</td>\n",
       "      <td>7.987579</td>\n",
       "      <td>AL</td>\n",
       "      <td>33.955246</td>\n",
       "      <td>-86.591402</td>\n",
       "    </tr>\n",
       "    <tr>\n",
       "      <th>...</th>\n",
       "      <td>...</td>\n",
       "      <td>...</td>\n",
       "      <td>...</td>\n",
       "      <td>...</td>\n",
       "      <td>...</td>\n",
       "      <td>...</td>\n",
       "      <td>...</td>\n",
       "    </tr>\n",
       "    <tr>\n",
       "      <th>3104</th>\n",
       "      <td>56037</td>\n",
       "      <td>pm25</td>\n",
       "      <td>2015</td>\n",
       "      <td>4.108004</td>\n",
       "      <td>WY</td>\n",
       "      <td>41.580269</td>\n",
       "      <td>-109.294956</td>\n",
       "    </tr>\n",
       "    <tr>\n",
       "      <th>3105</th>\n",
       "      <td>56039</td>\n",
       "      <td>pm25</td>\n",
       "      <td>2015</td>\n",
       "      <td>3.750280</td>\n",
       "      <td>WY</td>\n",
       "      <td>43.494176</td>\n",
       "      <td>-110.784367</td>\n",
       "    </tr>\n",
       "    <tr>\n",
       "      <th>3106</th>\n",
       "      <td>56041</td>\n",
       "      <td>pm25</td>\n",
       "      <td>2015</td>\n",
       "      <td>4.887007</td>\n",
       "      <td>WY</td>\n",
       "      <td>41.271860</td>\n",
       "      <td>-110.767416</td>\n",
       "    </tr>\n",
       "    <tr>\n",
       "      <th>3107</th>\n",
       "      <td>56043</td>\n",
       "      <td>pm25</td>\n",
       "      <td>2015</td>\n",
       "      <td>5.353960</td>\n",
       "      <td>WY</td>\n",
       "      <td>44.012141</td>\n",
       "      <td>-107.911548</td>\n",
       "    </tr>\n",
       "    <tr>\n",
       "      <th>3108</th>\n",
       "      <td>56045</td>\n",
       "      <td>pm25</td>\n",
       "      <td>2015</td>\n",
       "      <td>4.592551</td>\n",
       "      <td>WY</td>\n",
       "      <td>43.910216</td>\n",
       "      <td>-104.312642</td>\n",
       "    </tr>\n",
       "  </tbody>\n",
       "</table>\n",
       "<p>3109 rows × 7 columns</p>\n",
       "</div>"
      ],
      "text/plain": [
       "       FIPS pollutant  year  pred_wght state_abbr        lat         lon\n",
       "0     01001      pm25  2015   7.676696         AL  32.500383  -86.494186\n",
       "1     01003      pm25  2015   7.371883         AL  30.548923  -87.762466\n",
       "2     01005      pm25  2015   7.238605         AL  31.844037  -85.309929\n",
       "3     01007      pm25  2015   7.927948         AL  33.030918  -87.127655\n",
       "4     01009      pm25  2015   7.987579         AL  33.955246  -86.591402\n",
       "...     ...       ...   ...        ...        ...        ...         ...\n",
       "3104  56037      pm25  2015   4.108004         WY  41.580269 -109.294956\n",
       "3105  56039      pm25  2015   3.750280         WY  43.494176 -110.784367\n",
       "3106  56041      pm25  2015   4.887007         WY  41.271860 -110.767416\n",
       "3107  56043      pm25  2015   5.353960         WY  44.012141 -107.911548\n",
       "3108  56045      pm25  2015   4.592551         WY  43.910216 -104.312642\n",
       "\n",
       "[3109 rows x 7 columns]"
      ]
     },
     "execution_count": 15,
     "metadata": {},
     "output_type": "execute_result"
    }
   ],
   "source": [
    "pm_data_updated"
   ]
  },
  {
   "cell_type": "code",
   "execution_count": 16,
   "id": "5d54e231-16b7-4b2f-9287-79c4eccc281c",
   "metadata": {},
   "outputs": [],
   "source": [
    "pm_fips = pm_data_updated[\"FIPS\"]"
   ]
  },
  {
   "cell_type": "code",
   "execution_count": 17,
   "id": "1179f475-8a20-4c02-86b1-e4071712ee61",
   "metadata": {},
   "outputs": [
    {
     "data": {
      "text/plain": [
       "0       01001\n",
       "1       01003\n",
       "2       01005\n",
       "3       01007\n",
       "4       01009\n",
       "        ...  \n",
       "3104    56037\n",
       "3105    56039\n",
       "3106    56041\n",
       "3107    56043\n",
       "3108    56045\n",
       "Name: FIPS, Length: 3109, dtype: object"
      ]
     },
     "execution_count": 17,
     "metadata": {},
     "output_type": "execute_result"
    }
   ],
   "source": [
    "pm_fips"
   ]
  },
  {
   "cell_type": "code",
   "execution_count": 18,
   "id": "5673de31-2bcb-4033-b43c-dfe4db786a66",
   "metadata": {},
   "outputs": [],
   "source": [
    "invalid_pm_fips = invalid_fips(pm_fips)\n",
    "assert len(invalid_pm_fips) == 0"
   ]
  },
  {
   "cell_type": "code",
   "execution_count": 19,
   "id": "914ff274-3e81-4978-9bb6-429dbe6fbd51",
   "metadata": {},
   "outputs": [],
   "source": [
    "keep_cols = [\"FIPS\", \"pred_wght\"]"
   ]
  },
  {
   "cell_type": "code",
   "execution_count": 20,
   "id": "773608a8-d70b-42dd-a4b2-09a67198a972",
   "metadata": {},
   "outputs": [],
   "source": [
    "remove_cols(pm_data_updated, keep_cols)"
   ]
  },
  {
   "cell_type": "code",
   "execution_count": 21,
   "id": "fe764626-0d4e-4062-b3eb-ce5ef6a4662b",
   "metadata": {},
   "outputs": [],
   "source": [
    "pm_data_updated.to_csv(\"~/ASR-PM2.5/datasets/intermediate_datasets/resultforpm2.5dataset.csv\")"
   ]
  },
  {
   "cell_type": "code",
   "execution_count": null,
   "id": "ff73b1e2-9c35-4cb5-a3f4-5782a0bacf37",
   "metadata": {},
   "outputs": [],
   "source": []
  }
 ],
 "metadata": {
  "kernelspec": {
   "display_name": "Python 3 (ipykernel)",
   "language": "python",
   "name": "python3"
  },
  "language_info": {
   "codemirror_mode": {
    "name": "ipython",
    "version": 3
   },
   "file_extension": ".py",
   "mimetype": "text/x-python",
   "name": "python",
   "nbconvert_exporter": "python",
   "pygments_lexer": "ipython3",
   "version": "3.9.6"
  }
 },
 "nbformat": 4,
 "nbformat_minor": 5
}
